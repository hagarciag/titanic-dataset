{
 "cells": [
  {
   "cell_type": "code",
   "execution_count": 29,
   "metadata": {
    "collapsed": false
   },
   "outputs": [
    {
     "name": "stdout",
     "output_type": "stream",
     "text": [
      "'data.frame':\t891 obs. of  12 variables:\n",
      " $ PassengerId: int  1 2 3 4 5 6 7 8 9 10 ...\n",
      " $ Survived   : int  0 1 1 1 0 0 0 0 1 1 ...\n",
      " $ Pclass     : int  3 1 3 1 3 3 1 3 3 2 ...\n",
      " $ Name       : Factor w/ 891 levels \"Abbing, Mr. Anthony\",..: 109 191 358 277 16 559 520 629 417 581 ...\n",
      " $ Sex        : Factor w/ 2 levels \"female\",\"male\": 2 1 1 1 2 2 2 2 1 1 ...\n",
      " $ Age        : num  22 38 26 35 35 NA 54 2 27 14 ...\n",
      " $ SibSp      : int  1 1 0 1 0 0 0 3 0 1 ...\n",
      " $ Parch      : int  0 0 0 0 0 0 0 1 2 0 ...\n",
      " $ Ticket     : Factor w/ 681 levels \"110152\",\"110413\",..: 524 597 670 50 473 276 86 396 345 133 ...\n",
      " $ Fare       : num  7.25 71.28 7.92 53.1 8.05 ...\n",
      " $ Cabin      : Factor w/ 148 levels \"\",\"A10\",\"A14\",..: 1 83 1 57 1 1 131 1 1 1 ...\n",
      " $ Embarked   : Factor w/ 4 levels \"\",\"C\",\"Q\",\"S\": 4 2 4 4 4 3 4 4 4 2 ...\n"
     ]
    },
    {
     "data": {
      "text/plain": [
       "\n",
       "  0   1 \n",
       "549 342 "
      ]
     },
     "metadata": {},
     "output_type": "display_data"
    },
    {
     "data": {
      "text/plain": [
       "\n",
       "  1   2   3 \n",
       "216 184 491 "
      ]
     },
     "metadata": {},
     "output_type": "display_data"
    },
    {
     "data": {
      "text/plain": [
       "\n",
       "female   male \n",
       "   314    577 "
      ]
     },
     "metadata": {},
     "output_type": "display_data"
    },
    {
     "data": {
      "text/plain": [
       "\n",
       "  0   1   2   3   4   5   8 \n",
       "608 209  28  16  18   5   7 "
      ]
     },
     "metadata": {},
     "output_type": "display_data"
    },
    {
     "data": {
      "text/plain": [
       "\n",
       "  0   1   2   3   4   5   6 \n",
       "678 118  80   5   4   5   1 "
      ]
     },
     "metadata": {},
     "output_type": "display_data"
    },
    {
     "data": {
      "text/plain": [
       "\n",
       "      C   Q   S \n",
       "  2 168  77 644 "
      ]
     },
     "metadata": {},
     "output_type": "display_data"
    }
   ],
   "source": [
    "##m <- c(\"jpeg\", \"nlopt\", \"assertthat\",\n",
    "##\"base64enc\", \"BH\", \"bitops\", \"car\",\n",
    "##\"caret\", \"chron\", \"colorspace\",\n",
    "##\"data.table\", \"DBI\", \"dichromat\", \"dplyr\",\n",
    "##\"foreach\", \"formatR\", \"ggally”, ”ggplot2\",\n",
    "##\"glmnet\", \"gtable\", \"hexbin\", \"highr\",\n",
    "##\"htmltools\", \"htmlwidgets\", \"httpuv\",\n",
    "##\"iterators\", \"knitr\", \"labeling\",\n",
    "##\"lazyeval\", \"maps\", \"markdown\",\n",
    "##\"matrixmodels\", \"minqa\", \"munsell\",\n",
    "##\"nloptr\", \"pbkrtest\", \"plyr\", \"proto\",\n",
    "##\"quantmod\", \"quantreg\",\n",
    "##\"randomforest\", \"rbokeh\", \"rcolorbrewer\",\n",
    "##\"rcpp\", \"rcppeigen\", \"repr\", \"reshape2\",\n",
    "##\"rjsonio\", \"rmarkdown\", \"scales\", \"shiny\",\n",
    "##\"sparsem\", \"tidyr\", \"ttr\", \"xtable\",\n",
    "##\"xts\", \"yaml\", \"zoo\", \"ggally\")\n",
    "##install.packages(m)\n",
    "\n",
    "## Instale y cargue las siguientes librerias\n",
    "library(caret) \n",
    "library(glmnet)\n",
    "\n",
    "#Load the data\n",
    "train <- read.csv(\"train.csv\")\n",
    "\n",
    "#Column types\n",
    "str(train)\n",
    "\n",
    "table(train$Survived)\n",
    "table(train$Pclass)\n",
    "#table(train$Name)\n",
    "table(train$Sex)\n",
    "#table(train$Age)\n",
    "table(train$SibSp)\n",
    "table(train$Parch)\n",
    "#table(train$Ticket)\n",
    "#table(train$Fare)\n",
    "#table(train$Cabin)\n",
    "table(train$Embarked)\n"
   ]
  },
  {
   "cell_type": "code",
   "execution_count": 2,
   "metadata": {
    "collapsed": false
   },
   "outputs": [
    {
     "data": {
      "text/html": [
       "<table>\n",
       "<thead><tr><th scope=col>PassengerId</th><th scope=col>Survived</th><th scope=col>Pclass</th><th scope=col>Name</th><th scope=col>Sex</th><th scope=col>Age</th><th scope=col>SibSp</th><th scope=col>Parch</th><th scope=col>Ticket</th><th scope=col>Fare</th><th scope=col>Cabin</th><th scope=col>Embarked</th></tr></thead>\n",
       "<tbody>\n",
       "\t<tr><td>1                                                  </td><td>0                                                  </td><td>3                                                  </td><td>Braund, Mr. Owen Harris                            </td><td>male                                               </td><td>22                                                 </td><td>1                                                  </td><td>0                                                  </td><td>A/5 21171                                          </td><td> 7.2500                                            </td><td>                                                   </td><td>S                                                  </td></tr>\n",
       "\t<tr><td>2                                                  </td><td>1                                                  </td><td>1                                                  </td><td>Cumings, Mrs. John Bradley (Florence Briggs Thayer)</td><td>female                                             </td><td>38                                                 </td><td>1                                                  </td><td>0                                                  </td><td>PC 17599                                           </td><td>71.2833                                            </td><td>C85                                                </td><td>C                                                  </td></tr>\n",
       "\t<tr><td>3                                                  </td><td>1                                                  </td><td>3                                                  </td><td>Heikkinen, Miss. Laina                             </td><td>female                                             </td><td>26                                                 </td><td>0                                                  </td><td>0                                                  </td><td>STON/O2. 3101282                                   </td><td> 7.9250                                            </td><td>                                                   </td><td>S                                                  </td></tr>\n",
       "\t<tr><td>4                                                  </td><td>1                                                  </td><td>1                                                  </td><td>Futrelle, Mrs. Jacques Heath (Lily May Peel)       </td><td>female                                             </td><td>35                                                 </td><td>1                                                  </td><td>0                                                  </td><td>113803                                             </td><td>53.1000                                            </td><td>C123                                               </td><td>S                                                  </td></tr>\n",
       "\t<tr><td>5                                                  </td><td>0                                                  </td><td>3                                                  </td><td>Allen, Mr. William Henry                           </td><td>male                                               </td><td>35                                                 </td><td>0                                                  </td><td>0                                                  </td><td>373450                                             </td><td> 8.0500                                            </td><td>                                                   </td><td>S                                                  </td></tr>\n",
       "\t<tr><td>6                                                  </td><td>0                                                  </td><td>3                                                  </td><td>Moran, Mr. James                                   </td><td>male                                               </td><td>NA                                                 </td><td>0                                                  </td><td>0                                                  </td><td>330877                                             </td><td> 8.4583                                            </td><td>                                                   </td><td>Q                                                  </td></tr>\n",
       "</tbody>\n",
       "</table>\n"
      ],
      "text/latex": [
       "\\begin{tabular}{r|llllllllllll}\n",
       " PassengerId & Survived & Pclass & Name & Sex & Age & SibSp & Parch & Ticket & Fare & Cabin & Embarked\\\\\n",
       "\\hline\n",
       "\t 1                                                   & 0                                                   & 3                                                   & Braund, Mr. Owen Harris                             & male                                                & 22                                                  & 1                                                   & 0                                                   & A/5 21171                                           &  7.2500                                             &                                                     & S                                                  \\\\\n",
       "\t 2                                                   & 1                                                   & 1                                                   & Cumings, Mrs. John Bradley (Florence Briggs Thayer) & female                                              & 38                                                  & 1                                                   & 0                                                   & PC 17599                                            & 71.2833                                             & C85                                                 & C                                                  \\\\\n",
       "\t 3                                                   & 1                                                   & 3                                                   & Heikkinen, Miss. Laina                              & female                                              & 26                                                  & 0                                                   & 0                                                   & STON/O2. 3101282                                    &  7.9250                                             &                                                     & S                                                  \\\\\n",
       "\t 4                                                   & 1                                                   & 1                                                   & Futrelle, Mrs. Jacques Heath (Lily May Peel)        & female                                              & 35                                                  & 1                                                   & 0                                                   & 113803                                              & 53.1000                                             & C123                                                & S                                                  \\\\\n",
       "\t 5                                                   & 0                                                   & 3                                                   & Allen, Mr. William Henry                            & male                                                & 35                                                  & 0                                                   & 0                                                   & 373450                                              &  8.0500                                             &                                                     & S                                                  \\\\\n",
       "\t 6                                                   & 0                                                   & 3                                                   & Moran, Mr. James                                    & male                                                & NA                                                  & 0                                                   & 0                                                   & 330877                                              &  8.4583                                             &                                                     & Q                                                  \\\\\n",
       "\\end{tabular}\n"
      ],
      "text/markdown": [
       "\n",
       "PassengerId | Survived | Pclass | Name | Sex | Age | SibSp | Parch | Ticket | Fare | Cabin | Embarked | \n",
       "|---|---|---|---|---|---|\n",
       "| 1                                                   | 0                                                   | 3                                                   | Braund, Mr. Owen Harris                             | male                                                | 22                                                  | 1                                                   | 0                                                   | A/5 21171                                           |  7.2500                                             |                                                     | S                                                   | \n",
       "| 2                                                   | 1                                                   | 1                                                   | Cumings, Mrs. John Bradley (Florence Briggs Thayer) | female                                              | 38                                                  | 1                                                   | 0                                                   | PC 17599                                            | 71.2833                                             | C85                                                 | C                                                   | \n",
       "| 3                                                   | 1                                                   | 3                                                   | Heikkinen, Miss. Laina                              | female                                              | 26                                                  | 0                                                   | 0                                                   | STON/O2. 3101282                                    |  7.9250                                             |                                                     | S                                                   | \n",
       "| 4                                                   | 1                                                   | 1                                                   | Futrelle, Mrs. Jacques Heath (Lily May Peel)        | female                                              | 35                                                  | 1                                                   | 0                                                   | 113803                                              | 53.1000                                             | C123                                                | S                                                   | \n",
       "| 5                                                   | 0                                                   | 3                                                   | Allen, Mr. William Henry                            | male                                                | 35                                                  | 0                                                   | 0                                                   | 373450                                              |  8.0500                                             |                                                     | S                                                   | \n",
       "| 6                                                   | 0                                                   | 3                                                   | Moran, Mr. James                                    | male                                                | NA                                                  | 0                                                   | 0                                                   | 330877                                              |  8.4583                                             |                                                     | Q                                                   | \n",
       "\n",
       "\n"
      ],
      "text/plain": [
       "  PassengerId Survived Pclass\n",
       "1 1           0        3     \n",
       "2 2           1        1     \n",
       "3 3           1        3     \n",
       "4 4           1        1     \n",
       "5 5           0        3     \n",
       "6 6           0        3     \n",
       "  Name                                                Sex    Age SibSp Parch\n",
       "1 Braund, Mr. Owen Harris                             male   22  1     0    \n",
       "2 Cumings, Mrs. John Bradley (Florence Briggs Thayer) female 38  1     0    \n",
       "3 Heikkinen, Miss. Laina                              female 26  0     0    \n",
       "4 Futrelle, Mrs. Jacques Heath (Lily May Peel)        female 35  1     0    \n",
       "5 Allen, Mr. William Henry                            male   35  0     0    \n",
       "6 Moran, Mr. James                                    male   NA  0     0    \n",
       "  Ticket           Fare    Cabin Embarked\n",
       "1 A/5 21171         7.2500       S       \n",
       "2 PC 17599         71.2833 C85   C       \n",
       "3 STON/O2. 3101282  7.9250       S       \n",
       "4 113803           53.1000 C123  S       \n",
       "5 373450            8.0500       S       \n",
       "6 330877            8.4583       Q       "
      ]
     },
     "metadata": {},
     "output_type": "display_data"
    }
   ],
   "source": [
    "#First 5 records\n",
    "head(train)"
   ]
  },
  {
   "cell_type": "code",
   "execution_count": 4,
   "metadata": {
    "collapsed": false
   },
   "outputs": [],
   "source": [
    "## Cut data for training and testing (70% and 30%)\n",
    "set.seed(987954)      # seed\n",
    "\n",
    "## Partición de los datos\n",
    "\n",
    "survivor_sampling_vector <- createDataPartition(train$Survived,  # output data\n",
    "                                             p = 0.7,      # Percentage of data partition\n",
    "                                             list = FALSE)"
   ]
  },
  {
   "cell_type": "code",
   "execution_count": 39,
   "metadata": {
    "collapsed": false,
    "scrolled": true
   },
   "outputs": [],
   "source": [
    "## 624 observations for training\n",
    "\n",
    "survivor_train        <- train[survivor_sampling_vector,]\n",
    "survivor_train_labels <- train$Survived[survivor_sampling_vector]          # training output variable\n",
    "#str(survivor_train)\n",
    "\n",
    "## 267 observaciones para prueba\n",
    "survivor_test         <- train[-survivor_sampling_vector,]                 # Take the data that were not selected for training\n",
    "survivo_test_labels  <- train$Survived[-survivor_sampling_vector]          # Test output variable \n",
    "#str(survivor_test)"
   ]
  },
  {
   "cell_type": "code",
   "execution_count": 40,
   "metadata": {
    "collapsed": false
   },
   "outputs": [],
   "source": [
    "## Logistic regression model\n",
    "\n",
    "survival_model <- glm(Survived ~ Sex+Pclass+Sex+SibSp,                          # Variable 'output' vs all variables\n",
    "                   data = train,                             # Data\n",
    "                   family = binomial(\"logit\"))               # Type of model\n"
   ]
  },
  {
   "cell_type": "code",
   "execution_count": 41,
   "metadata": {
    "collapsed": false
   },
   "outputs": [
    {
     "data": {
      "text/plain": [
       "\n",
       "Call:\n",
       "glm(formula = Survived ~ Sex + Pclass + Sex + SibSp, family = binomial(\"logit\"), \n",
       "    data = train)\n",
       "\n",
       "Deviance Residuals: \n",
       "    Min       1Q   Median       3Q      Max  \n",
       "-2.2689  -0.6735  -0.4747   0.6189   2.5148  \n",
       "\n",
       "Coefficients:\n",
       "            Estimate Std. Error z value Pr(>|z|)    \n",
       "(Intercept)  3.43357    0.30543  11.242  < 2e-16 ***\n",
       "Sexmale     -2.74314    0.19027 -14.417  < 2e-16 ***\n",
       "Pclass      -0.93896    0.10647  -8.819  < 2e-16 ***\n",
       "SibSp       -0.24812    0.09453  -2.625  0.00867 ** \n",
       "---\n",
       "Signif. codes:  0 '***' 0.001 '**' 0.01 '*' 0.05 '.' 0.1 ' ' 1\n",
       "\n",
       "(Dispersion parameter for binomial family taken to be 1)\n",
       "\n",
       "    Null deviance: 1186.66  on 890  degrees of freedom\n",
       "Residual deviance:  819.32  on 887  degrees of freedom\n",
       "AIC: 827.32\n",
       "\n",
       "Number of Fisher Scoring iterations: 4\n"
      ]
     },
     "metadata": {},
     "output_type": "display_data"
    }
   ],
   "source": [
    "## Summary of the adjustment\n",
    "summary(survival_model)"
   ]
  },
  {
   "cell_type": "code",
   "execution_count": 42,
   "metadata": {
    "collapsed": false
   },
   "outputs": [
    {
     "data": {
      "text/html": [
       "0.793269230769231"
      ],
      "text/latex": [
       "0.793269230769231"
      ],
      "text/markdown": [
       "0.793269230769231"
      ],
      "text/plain": [
       "[1] 0.7932692"
      ]
     },
     "metadata": {},
     "output_type": "display_data"
    }
   ],
   "source": [
    "## Model performance\n",
    "\n",
    "train_predictions       <- predict(survival_model,                      # Modelo obtenido \n",
    "                                     newdata = survivor_train,          # Datos de entrenamiento\n",
    "                                       type = \"response\")\n",
    "\n",
    "train_class_predictions <- as.numeric(train_predictions > 0.5)       # Valores mayores a 0.5\n",
    "\n",
    "mean(train_class_predictions == survivor_train$Survived)                  # Metrica de precision con la media"
   ]
  },
  {
   "cell_type": "code",
   "execution_count": 43,
   "metadata": {
    "collapsed": false
   },
   "outputs": [
    {
     "data": {
      "text/html": [
       "0.816479400749064"
      ],
      "text/latex": [
       "0.816479400749064"
      ],
      "text/markdown": [
       "0.816479400749064"
      ],
      "text/plain": [
       "[1] 0.8164794"
      ]
     },
     "metadata": {},
     "output_type": "display_data"
    }
   ],
   "source": [
    "## performance test of the model\n",
    "\n",
    "test_predictions       <-  predict(survival_model,                      # Modelo\n",
    "                                    newdata = survivor_test,            # COnjunto de datos de prueba\n",
    "                                     type = \"response\")\n",
    "\n",
    "test_class_predictions <-  as.numeric(test_predictions > 0.5)        # Valores predichos mayores a 0.5\n",
    "\n",
    "mean(test_class_predictions == survivor_test$Survived)                    # Precision"
   ]
  },
  {
   "cell_type": "code",
   "execution_count": 44,
   "metadata": {
    "collapsed": true
   },
   "outputs": [],
   "source": [
    "#https://triangleinequality.wordpress.com/2013/09/08/basic-feature-engineering-with-the-titanic-data/\n",
    "#https://www.kaggle.com/c/titanic/data\n"
   ]
  },
  {
   "cell_type": "code",
   "execution_count": 56,
   "metadata": {
    "collapsed": false
   },
   "outputs": [
    {
     "data": {
      "text/html": [
       "<table>\n",
       "<thead><tr><th scope=col>PassengerId</th><th scope=col>Pclass</th><th scope=col>Name</th><th scope=col>Sex</th><th scope=col>Age</th><th scope=col>SibSp</th><th scope=col>Parch</th><th scope=col>Ticket</th><th scope=col>Fare</th><th scope=col>Cabin</th><th scope=col>Embarked</th></tr></thead>\n",
       "<tbody>\n",
       "\t<tr><td>892                                         </td><td>3                                           </td><td>Kelly, Mr. James                            </td><td>male                                        </td><td>34.5                                        </td><td>0                                           </td><td>0                                           </td><td>330911                                      </td><td> 7.8292                                     </td><td>                                            </td><td>Q                                           </td></tr>\n",
       "\t<tr><td>893                                         </td><td>3                                           </td><td>Wilkes, Mrs. James (Ellen Needs)            </td><td>female                                      </td><td>47.0                                        </td><td>1                                           </td><td>0                                           </td><td>363272                                      </td><td> 7.0000                                     </td><td>                                            </td><td>S                                           </td></tr>\n",
       "\t<tr><td>894                                         </td><td>2                                           </td><td>Myles, Mr. Thomas Francis                   </td><td>male                                        </td><td>62.0                                        </td><td>0                                           </td><td>0                                           </td><td>240276                                      </td><td> 9.6875                                     </td><td>                                            </td><td>Q                                           </td></tr>\n",
       "\t<tr><td>895                                         </td><td>3                                           </td><td>Wirz, Mr. Albert                            </td><td>male                                        </td><td>27.0                                        </td><td>0                                           </td><td>0                                           </td><td>315154                                      </td><td> 8.6625                                     </td><td>                                            </td><td>S                                           </td></tr>\n",
       "\t<tr><td>896                                         </td><td>3                                           </td><td>Hirvonen, Mrs. Alexander (Helga E Lindqvist)</td><td>female                                      </td><td>22.0                                        </td><td>1                                           </td><td>1                                           </td><td>3101298                                     </td><td>12.2875                                     </td><td>                                            </td><td>S                                           </td></tr>\n",
       "\t<tr><td>897                                         </td><td>3                                           </td><td>Svensson, Mr. Johan Cervin                  </td><td>male                                        </td><td>14.0                                        </td><td>0                                           </td><td>0                                           </td><td>7538                                        </td><td> 9.2250                                     </td><td>                                            </td><td>S                                           </td></tr>\n",
       "</tbody>\n",
       "</table>\n"
      ],
      "text/latex": [
       "\\begin{tabular}{r|lllllllllll}\n",
       " PassengerId & Pclass & Name & Sex & Age & SibSp & Parch & Ticket & Fare & Cabin & Embarked\\\\\n",
       "\\hline\n",
       "\t 892                                          & 3                                            & Kelly, Mr. James                             & male                                         & 34.5                                         & 0                                            & 0                                            & 330911                                       &  7.8292                                      &                                              & Q                                           \\\\\n",
       "\t 893                                          & 3                                            & Wilkes, Mrs. James (Ellen Needs)             & female                                       & 47.0                                         & 1                                            & 0                                            & 363272                                       &  7.0000                                      &                                              & S                                           \\\\\n",
       "\t 894                                          & 2                                            & Myles, Mr. Thomas Francis                    & male                                         & 62.0                                         & 0                                            & 0                                            & 240276                                       &  9.6875                                      &                                              & Q                                           \\\\\n",
       "\t 895                                          & 3                                            & Wirz, Mr. Albert                             & male                                         & 27.0                                         & 0                                            & 0                                            & 315154                                       &  8.6625                                      &                                              & S                                           \\\\\n",
       "\t 896                                          & 3                                            & Hirvonen, Mrs. Alexander (Helga E Lindqvist) & female                                       & 22.0                                         & 1                                            & 1                                            & 3101298                                      & 12.2875                                      &                                              & S                                           \\\\\n",
       "\t 897                                          & 3                                            & Svensson, Mr. Johan Cervin                   & male                                         & 14.0                                         & 0                                            & 0                                            & 7538                                         &  9.2250                                      &                                              & S                                           \\\\\n",
       "\\end{tabular}\n"
      ],
      "text/markdown": [
       "\n",
       "PassengerId | Pclass | Name | Sex | Age | SibSp | Parch | Ticket | Fare | Cabin | Embarked | \n",
       "|---|---|---|---|---|---|\n",
       "| 892                                          | 3                                            | Kelly, Mr. James                             | male                                         | 34.5                                         | 0                                            | 0                                            | 330911                                       |  7.8292                                      |                                              | Q                                            | \n",
       "| 893                                          | 3                                            | Wilkes, Mrs. James (Ellen Needs)             | female                                       | 47.0                                         | 1                                            | 0                                            | 363272                                       |  7.0000                                      |                                              | S                                            | \n",
       "| 894                                          | 2                                            | Myles, Mr. Thomas Francis                    | male                                         | 62.0                                         | 0                                            | 0                                            | 240276                                       |  9.6875                                      |                                              | Q                                            | \n",
       "| 895                                          | 3                                            | Wirz, Mr. Albert                             | male                                         | 27.0                                         | 0                                            | 0                                            | 315154                                       |  8.6625                                      |                                              | S                                            | \n",
       "| 896                                          | 3                                            | Hirvonen, Mrs. Alexander (Helga E Lindqvist) | female                                       | 22.0                                         | 1                                            | 1                                            | 3101298                                      | 12.2875                                      |                                              | S                                            | \n",
       "| 897                                          | 3                                            | Svensson, Mr. Johan Cervin                   | male                                         | 14.0                                         | 0                                            | 0                                            | 7538                                         |  9.2250                                      |                                              | S                                            | \n",
       "\n",
       "\n"
      ],
      "text/plain": [
       "  PassengerId Pclass Name                                         Sex    Age \n",
       "1 892         3      Kelly, Mr. James                             male   34.5\n",
       "2 893         3      Wilkes, Mrs. James (Ellen Needs)             female 47.0\n",
       "3 894         2      Myles, Mr. Thomas Francis                    male   62.0\n",
       "4 895         3      Wirz, Mr. Albert                             male   27.0\n",
       "5 896         3      Hirvonen, Mrs. Alexander (Helga E Lindqvist) female 22.0\n",
       "6 897         3      Svensson, Mr. Johan Cervin                   male   14.0\n",
       "  SibSp Parch Ticket  Fare    Cabin Embarked\n",
       "1 0     0     330911   7.8292       Q       \n",
       "2 1     0     363272   7.0000       S       \n",
       "3 0     0     240276   9.6875       Q       \n",
       "4 0     0     315154   8.6625       S       \n",
       "5 1     1     3101298 12.2875       S       \n",
       "6 0     0     7538     9.2250       S       "
      ]
     },
     "metadata": {},
     "output_type": "display_data"
    }
   ],
   "source": [
    "#Load the data\n",
    "test_kaggle <- read.csv(\"test.csv\")\n",
    "\n",
    "## Forecasting performance of the model\n",
    "#head(test_kaggle)\n",
    "test_kaggle_predictions       <-  predict(survival_model,                      # Modelo\n",
    "                                    newdata = test_kaggle,            # COnjunto de datos de prueba\n",
    "                                     type = \"response\")\n",
    "\n",
    "test_kaggle_class_predictions <-  as.numeric(test_kaggle_predictions > 0.5)        # Valores predichos mayores a 0.5\n",
    "test_kaggle$Survived<-test_kaggle_class_predictions\n",
    "#mean(test_class_predictions == survivor_test$Survived)                    # Precision\n",
    "test_kaggle_output <- test_kaggle[,c('PassengerId','Survived')]\n",
    "#apply(test_kaggle, \n",
    "#test_kaggle_output\n",
    "#            function(x) x$PassengerId+\",\"+x$Survived)\n",
    "#test_kaggle_output\n",
    "#                test_kaggle[,c('Species','Survived')]\n",
    "## lo escribe con formato csv.\n",
    "write.csv(x = test_kaggle_output, \n",
    "          file = 'test_kaggle_output.csv',  # archivo\n",
    "          row.names = FALSE)        # imprime los nombres de las filas?"
   ]
  },
  {
   "cell_type": "code",
   "execution_count": null,
   "metadata": {
    "collapsed": true
   },
   "outputs": [],
   "source": []
  }
 ],
 "metadata": {
  "kernelspec": {
   "display_name": "R",
   "language": "R",
   "name": "ir"
  },
  "language_info": {
   "codemirror_mode": "r",
   "file_extension": ".r",
   "mimetype": "text/x-r-source",
   "name": "R",
   "pygments_lexer": "r",
   "version": "3.3.3"
  }
 },
 "nbformat": 4,
 "nbformat_minor": 0
}
